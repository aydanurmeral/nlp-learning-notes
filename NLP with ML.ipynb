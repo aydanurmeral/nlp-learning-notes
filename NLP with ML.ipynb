{
  "nbformat": 4,
  "nbformat_minor": 0,
  "metadata": {
    "colab": {
      "provenance": []
    },
    "kernelspec": {
      "name": "python3",
      "display_name": "Python 3"
    },
    "language_info": {
      "name": "python"
    }
  },
  "cells": [
    {
      "cell_type": "code",
      "execution_count": 6,
      "metadata": {
        "colab": {
          "base_uri": "https://localhost:8080/"
        },
        "id": "06nBZ6Hx2-mv",
        "outputId": "dbbe7e10-d3ff-486d-ac09-54a7bb111873"
      },
      "outputs": [
        {
          "output_type": "stream",
          "name": "stdout",
          "text": [
            "Requirement already satisfied: seaborn in /usr/local/lib/python3.11/dist-packages (0.13.2)\n",
            "Requirement already satisfied: numpy!=1.24.0,>=1.20 in /usr/local/lib/python3.11/dist-packages (from seaborn) (2.0.2)\n",
            "Requirement already satisfied: pandas>=1.2 in /usr/local/lib/python3.11/dist-packages (from seaborn) (2.2.2)\n",
            "Requirement already satisfied: matplotlib!=3.6.1,>=3.4 in /usr/local/lib/python3.11/dist-packages (from seaborn) (3.10.0)\n",
            "Requirement already satisfied: contourpy>=1.0.1 in /usr/local/lib/python3.11/dist-packages (from matplotlib!=3.6.1,>=3.4->seaborn) (1.3.3)\n",
            "Requirement already satisfied: cycler>=0.10 in /usr/local/lib/python3.11/dist-packages (from matplotlib!=3.6.1,>=3.4->seaborn) (0.12.1)\n",
            "Requirement already satisfied: fonttools>=4.22.0 in /usr/local/lib/python3.11/dist-packages (from matplotlib!=3.6.1,>=3.4->seaborn) (4.59.0)\n",
            "Requirement already satisfied: kiwisolver>=1.3.1 in /usr/local/lib/python3.11/dist-packages (from matplotlib!=3.6.1,>=3.4->seaborn) (1.4.8)\n",
            "Requirement already satisfied: packaging>=20.0 in /usr/local/lib/python3.11/dist-packages (from matplotlib!=3.6.1,>=3.4->seaborn) (25.0)\n",
            "Requirement already satisfied: pillow>=8 in /usr/local/lib/python3.11/dist-packages (from matplotlib!=3.6.1,>=3.4->seaborn) (11.3.0)\n",
            "Requirement already satisfied: pyparsing>=2.3.1 in /usr/local/lib/python3.11/dist-packages (from matplotlib!=3.6.1,>=3.4->seaborn) (3.2.3)\n",
            "Requirement already satisfied: python-dateutil>=2.7 in /usr/local/lib/python3.11/dist-packages (from matplotlib!=3.6.1,>=3.4->seaborn) (2.9.0.post0)\n",
            "Requirement already satisfied: pytz>=2020.1 in /usr/local/lib/python3.11/dist-packages (from pandas>=1.2->seaborn) (2025.2)\n",
            "Requirement already satisfied: tzdata>=2022.7 in /usr/local/lib/python3.11/dist-packages (from pandas>=1.2->seaborn) (2025.2)\n",
            "Requirement already satisfied: six>=1.5 in /usr/local/lib/python3.11/dist-packages (from python-dateutil>=2.7->matplotlib!=3.6.1,>=3.4->seaborn) (1.17.0)\n"
          ]
        }
      ],
      "source": [
        "pip install seaborn"
      ]
    },
    {
      "cell_type": "markdown",
      "source": [
        "**Hastalıklı veya Sağlıklı Hasta Sınıflandırması**"
      ],
      "metadata": {
        "id": "6FOI45vQ3LF6"
      }
    },
    {
      "cell_type": "code",
      "source": [
        "\n",
        "import numpy as np\n",
        "import pandas as pd\n",
        "import matplotlib.pyplot as plt\n",
        "import seaborn as sns\n",
        "from sklearn.model_selection import train_test_split\n",
        "from sklearn.preprocessing import StandardScaler\n",
        "from sklearn.ensemble import RandomForestClassifier\n",
        "from sklearn.svm import SVC\n",
        "from sklearn.linear_model import LogisticRegression\n",
        "from sklearn.metrics import accuracy_score, precision_score, recall_score, f1_score, confusion_matrix\n",
        "\n",
        "# 1: Hastalıklı, 0: Sağlıklı\n",
        "np.random.seed(42)\n",
        "data_size = 200\n",
        "\n",
        "patient_data = {\n",
        "    \"Age\": np.random.randint(20, 80, data_size),\n",
        "    \"Blood_Pressure\": np.random.randint(80, 180, data_size),\n",
        "    \"Cholesterol\": np.random.randint(100, 300, data_size),\n",
        "    \"BMI\": np.random.uniform(18.5, 40.0, data_size),\n",
        "    \"Glucose\": np.random.randint(70, 200, data_size),\n",
        "    \"Disease\": np.random.randint(0, 2, data_size)\n",
        "}\n",
        "\n",
        "df_patients = pd.DataFrame(patient_data)\n",
        "\n",
        "\n",
        "X = df_patients.drop(columns=[\"Disease\"])\n",
        "y = df_patients[\"Disease\"]\n",
        "\n",
        "X_train, X_test, y_train, y_test = train_test_split(X, y, test_size=0.2, random_state=42, stratify=y)\n",
        "\n",
        "\n",
        "scaler = StandardScaler()\n",
        "X_train = scaler.fit_transform(X_train)\n",
        "X_test = scaler.transform(X_test)\n",
        "\n",
        "\n",
        "models = {\n",
        "    \"Lojistik Regresyon\": LogisticRegression(),\n",
        "    \"Destek Vektör Makineleri (SVM)\": SVC(kernel=\"linear\", random_state=42),\n",
        "    \"Random Forest\": RandomForestClassifier(n_estimators=100, random_state=42)\n",
        "}\n",
        "\n",
        "\n",
        "results = []\n",
        "conf_matrices = {}\n",
        "\n",
        "for model_name, model in models.items():\n",
        "    model.fit(X_train, y_train)\n",
        "    y_pred = model.predict(X_test)\n",
        "\n",
        "    accuracy = accuracy_score(y_test, y_pred)\n",
        "    precision = precision_score(y_test, y_pred, zero_division=1)\n",
        "    recall = recall_score(y_test, y_pred)\n",
        "    f1 = f1_score(y_test, y_pred)\n",
        "\n",
        "    results.append([model_name, accuracy, precision, recall, f1])\n",
        "\n",
        "\n",
        "    conf_matrices[model_name] = confusion_matrix(y_test, y_pred)\n",
        "\n",
        "\n",
        "results_df = pd.DataFrame(results, columns=[\"Model\", \"Doğruluk\", \"Precision\", \"Recall\", \"F1-Score\"])\n",
        "print(\"Model Karşılaştırma Sonuçları:\")\n",
        "print(results_df)\n",
        "\n",
        "\n",
        "fig, axes = plt.subplots(1, 3, figsize=(18, 5))\n",
        "for i, (model_name, cm) in enumerate(conf_matrices.items()):\n",
        "    sns.heatmap(cm, annot=True, fmt=\"d\", cmap=\"Blues\", xticklabels=[\"Sağlıklı\", \"Hastalıklı\"],\n",
        "                yticklabels=[\"Sağlıklı\", \"Hastalıklı\"], ax=axes[i])\n",
        "    axes[i].set_title(f\"{model_name} - Confusion Matrix\")\n",
        "    axes[i].set_xlabel(\"Tahmin Edilen\")\n",
        "    axes[i].set_ylabel(\"Gerçek Değer\")\n",
        "\n",
        "plt.show()\n"
      ],
      "metadata": {
        "colab": {
          "base_uri": "https://localhost:8080/",
          "height": 307
        },
        "id": "86ackquL3NjF",
        "outputId": "925ab329-38d8-446a-bbe8-ad36b5fd45e0"
      },
      "execution_count": 7,
      "outputs": [
        {
          "output_type": "stream",
          "name": "stdout",
          "text": [
            "Model Karşılaştırma Sonuçları:\n",
            "                            Model  Doğruluk  Precision    Recall  F1-Score\n",
            "0              Lojistik Regresyon     0.525   0.428571  0.166667      0.24\n",
            "1  Destek Vektör Makineleri (SVM)     0.550   1.000000  0.000000      0.00\n",
            "2                   Random Forest     0.475   0.411765  0.388889      0.40\n"
          ]
        },
        {
          "output_type": "display_data",
          "data": {
            "text/plain": [
              "<Figure size 1800x500 with 6 Axes>"
            ],
            "image/png": "[encoded data removed]"
          },
          "metadata": {}
        }
      ]
    },
    {
      "cell_type": "markdown",
      "source": [
        "**K-Means ile Müşteri Segmentasyonu**"
      ],
      "metadata": {
        "id": "MhHARwfp3mf7"
      }
    },
    {
      "cell_type": "code",
      "source": [
        "pip install matplotlib"
      ],
      "metadata": {
        "colab": {
          "base_uri": "https://localhost:8080/"
        },
        "id": "5k1_8Jrg3sqL",
        "outputId": "3eca77c6-a29e-4069-e693-3c9cb67b4356"
      },
      "execution_count": 8,
      "outputs": [
        {
          "output_type": "stream",
          "name": "stdout",
          "text": [
            "Requirement already satisfied: matplotlib in /usr/local/lib/python3.11/dist-packages (3.10.0)\n",
            "Requirement already satisfied: contourpy>=1.0.1 in /usr/local/lib/python3.11/dist-packages (from matplotlib) (1.3.3)\n",
            "Requirement already satisfied: cycler>=0.10 in /usr/local/lib/python3.11/dist-packages (from matplotlib) (0.12.1)\n",
            "Requirement already satisfied: fonttools>=4.22.0 in /usr/local/lib/python3.11/dist-packages (from matplotlib) (4.59.0)\n",
            "Requirement already satisfied: kiwisolver>=1.3.1 in /usr/local/lib/python3.11/dist-packages (from matplotlib) (1.4.8)\n",
            "Requirement already satisfied: numpy>=1.23 in /usr/local/lib/python3.11/dist-packages (from matplotlib) (2.0.2)\n",
            "Requirement already satisfied: packaging>=20.0 in /usr/local/lib/python3.11/dist-packages (from matplotlib) (25.0)\n",
            "Requirement already satisfied: pillow>=8 in /usr/local/lib/python3.11/dist-packages (from matplotlib) (11.3.0)\n",
            "Requirement already satisfied: pyparsing>=2.3.1 in /usr/local/lib/python3.11/dist-packages (from matplotlib) (3.2.3)\n",
            "Requirement already satisfied: python-dateutil>=2.7 in /usr/local/lib/python3.11/dist-packages (from matplotlib) (2.9.0.post0)\n",
            "Requirement already satisfied: six>=1.5 in /usr/local/lib/python3.11/dist-packages (from python-dateutil>=2.7->matplotlib) (1.17.0)\n"
          ]
        }
      ]
    },
    {
      "cell_type": "code",
      "source": [
        "import numpy as np\n",
        "import pandas as pd\n",
        "import matplotlib.pyplot as plt\n",
        "from sklearn.cluster import KMeans\n",
        "from sklearn.preprocessing import StandardScaler\n",
        "\n",
        "customer_data = {\n",
        "    \"Customer_ID\": range(1, 51),\n",
        "    \"Annual_Income\": np.random.randint(15000, 100000, 50),\n",
        "    \"Spending_Score\": np.random.randint(1, 100, 50)\n",
        "}\n",
        "\n",
        "df_customers = pd.DataFrame(customer_data)\n",
        "\n",
        "\n",
        "scaler = StandardScaler()\n",
        "X_customers = scaler.fit_transform(df_customers[['Annual_Income', 'Spending_Score']])\n",
        "\n",
        "# K-Means Modeli\n",
        "kmeans = KMeans(n_clusters=3, random_state=42, n_init=10)\n",
        "df_customers[\"Cluster\"] = kmeans.fit_predict(X_customers)\n",
        "\n",
        "\n",
        "plt.figure(figsize=(8, 6))\n",
        "plt.scatter(df_customers[\"Annual_Income\"], df_customers[\"Spending_Score\"], c=df_customers[\"Cluster\"], cmap=\"viridis\")\n",
        "plt.xlabel(\"Yıllık Gelir (USD)\")\n",
        "plt.ylabel(\"Harcama Skoru\")\n",
        "plt.title(\"Müşteri Segmentasyonu - K-Means\")\n",
        "plt.colorbar(label=\"Küme Numarası\")\n",
        "plt.show()\n",
        "\n",
        "print(df_customers.head(10))"
      ],
      "metadata": {
        "colab": {
          "base_uri": "https://localhost:8080/",
          "height": 706
        },
        "id": "rRd7Amwc3vhk",
        "outputId": "75d7a877-d286-4c47-a4df-ff5724d65116"
      },
      "execution_count": 9,
      "outputs": [
        {
          "output_type": "display_data",
          "data": {
            "text/plain": [
              "<Figure size 800x600 with 2 Axes>"
            ],
            "image/png": "[encoded data removed]"
          },
          "metadata": {}
        },
        {
          "output_type": "stream",
          "name": "stdout",
          "text": [
            "   Customer_ID  Annual_Income  Spending_Score  Cluster\n",
            "0            1          85480              59        1\n",
            "1            2          61163              72        1\n",
            "2            3          34816              54        0\n",
            "3            4          64840              67        1\n",
            "4            5          67853              51        1\n",
            "5            6          39917              97        1\n",
            "6            7          36566              92        1\n",
            "7            8          90452               8        2\n",
            "8            9          77823              34        2\n",
            "9           10          35806              35        0\n"
          ]
        }
      ]
    },
    {
      "cell_type": "markdown",
      "source": [
        "**Doğrusal Regresyon ile Ev Fiyat Tahmini**"
      ],
      "metadata": {
        "id": "49nvJmcS32xC"
      }
    },
    {
      "cell_type": "code",
      "source": [
        "\n",
        "import numpy as np\n",
        "import pandas as pd\n",
        "import matplotlib.pyplot as plt\n",
        "from sklearn.linear_model import LinearRegression\n",
        "from sklearn.model_selection import train_test_split\n",
        "from sklearn.metrics import mean_absolute_error, mean_squared_error, r2_score\n",
        "\n",
        "\n",
        "np.random.seed(42)\n",
        "house_data = {\n",
        "    \"Metrekare\": np.random.randint(50, 250, 100),\n",
        "    \"Oda_Sayisi\": np.random.randint(1, 6, 100),\n",
        "    \"Fiyat\": np.random.randint(100000, 1000000, 100)\n",
        "}\n",
        "\n",
        "df_houses = pd.DataFrame(house_data)\n",
        "\n",
        "\n",
        "X_houses = df_houses[[\"Metrekare\", \"Oda_Sayisi\"]]\n",
        "y_houses = df_houses[\"Fiyat\"]\n",
        "\n",
        "# (80% eğitim, 20% test)\n",
        "X_train, X_test, y_train, y_test = train_test_split(X_houses, y_houses, test_size=0.2, random_state=42)\n",
        "\n",
        "\n",
        "linear_reg_model = LinearRegression()\n",
        "linear_reg_model.fit(X_train, y_train)\n",
        "\n",
        "df_houses[\"Tahmini_Fiyat\"] = linear_reg_model.predict(X_houses)\n",
        "\n",
        "\n",
        "y_pred_test = linear_reg_model.predict(X_test)\n",
        "\n",
        "mae = mean_absolute_error(y_test, y_pred_test)\n",
        "mse = mean_squared_error(y_test, y_pred_test)\n",
        "rmse = np.sqrt(mse)\n",
        "r2 = r2_score(y_test, y_pred_test)\n",
        "\n",
        "\n",
        "plt.figure(figsize=(8, 6))\n",
        "plt.scatter(y_test, y_pred_test, color='blue', alpha=0.5)\n",
        "plt.plot([y_test.min(), y_test.max()], [y_test.min(), y_test.max()], 'r--', lw=2)\n",
        "plt.xlabel(\"Gerçek Fiyatlar\")\n",
        "plt.ylabel(\"Tahmini Fiyatlar\")\n",
        "plt.title(\"Ev Fiyat Tahmini - Gerçek vs. Tahmin\")\n",
        "plt.show()\n",
        "\n",
        "\n",
        "print(\" Model Performans Ölçütleri:\")\n",
        "print(f\"Mean Absolute Error (MAE): {mae:.2f}\")\n",
        "print(f\"Mean Squared Error (MSE): {mse:.2f}\")\n",
        "print(f\"Root Mean Squared Error (RMSE): {rmse:.2f}\")\n",
        "print(f\"R² Score: {r2:.2f}\")\n",
        "\n",
        "\n",
        "print(\"\\n İlk 10 Ev İçin Tahmin Sonuçları:\")\n",
        "print(df_houses.head(10))"
      ],
      "metadata": {
        "colab": {
          "base_uri": "https://localhost:8080/",
          "height": 817
        },
        "id": "mFRVHJ8K37Zi",
        "outputId": "98e4c7d5-caa6-4700-9eab-750759c9bed4"
      },
      "execution_count": 10,
      "outputs": [
        {
          "output_type": "display_data",
          "data": {
            "text/plain": [
              "<Figure size 800x600 with 1 Axes>"
            ],
            "image/png": "[encoded data removed]"
          },
          "metadata": {}
        },
        {
          "output_type": "stream",
          "name": "stdout",
          "text": [
            " Model Performans Ölçütleri:\n",
            "Mean Absolute Error (MAE): 198778.29\n",
            "Mean Squared Error (MSE): 64930466863.03\n",
            "Root Mean Squared Error (RMSE): 254814.57\n",
            "R² Score: -0.15\n",
            "\n",
            " İlk 10 Ev İçin Tahmin Sonuçları:\n",
            "   Metrekare  Oda_Sayisi   Fiyat  Tahmini_Fiyat\n",
            "0        152           5  325281  444987.193825\n",
            "1        229           1  737147  591006.948349\n",
            "2        142           1  998613  610634.529158\n",
            "3         64           1  494070  628231.670573\n",
            "4        156           1  452228  607476.067878\n",
            "5        121           4  531839  492828.752406\n",
            "6        238           3  369536  507280.863174\n",
            "7         70           3  417824  545182.398529\n",
            "8        152           1  357426  608378.485387\n",
            "9        171           3  277789  522396.356440\n"
          ]
        }
      ]
    },
    {
      "cell_type": "markdown",
      "source": [
        "**Makine Öğrenemesi ile Doğal Dil İşleme Örnekleri**"
      ],
      "metadata": {
        "id": "Rws5OyKH4HH_"
      }
    },
    {
      "cell_type": "markdown",
      "source": [
        "\n",
        "\n",
        "1.Adlandırılmış Varlık Tanıma (NER)\n",
        "\n"
      ],
      "metadata": {
        "id": "fMvTwXQm4ZdN"
      }
    },
    {
      "cell_type": "code",
      "source": [
        "import spacy\n",
        "\n",
        "\n",
        "nlp = spacy.load(\"en_core_web_sm\")\n",
        "\n",
        "\n",
        "text = \"Elon Musk is the CEO of Tesla and SpaceX. He was born in South Africa.\"\n",
        "\n",
        "\n",
        "doc = nlp(text)\n",
        "\n",
        "\n",
        "print(\"Named Entities in the text:\")\n",
        "for ent in doc.ents:\n",
        "    print(f\"{ent.text} ({ent.label_})\")\n"
      ],
      "metadata": {
        "colab": {
          "base_uri": "https://localhost:8080/"
        },
        "id": "Z11kaA849MxL",
        "outputId": "424b7a75-7b50-47b8-ba79-32c042421a54"
      },
      "execution_count": 11,
      "outputs": [
        {
          "output_type": "stream",
          "name": "stdout",
          "text": [
            "Named Entities in the text:\n",
            "Elon Musk (PERSON)\n",
            "Tesla (ORG)\n",
            "South Africa (GPE)\n"
          ]
        }
      ]
    },
    {
      "cell_type": "markdown",
      "source": [
        "\n",
        "\n",
        "2.Metin Sınıflandırma (Spam Tespiti)\n",
        "\n"
      ],
      "metadata": {
        "id": "RuylNDS393Nb"
      }
    },
    {
      "cell_type": "code",
      "source": [
        "import pandas as pd\n",
        "import re\n",
        "import string\n",
        "import nltk\n",
        "from sklearn.feature_extraction.text import TfidfVectorizer\n",
        "from sklearn.model_selection import train_test_split\n",
        "from sklearn.naive_bayes import MultinomialNB\n",
        "from sklearn.metrics import accuracy_score, classification_report\n",
        "\n",
        "\n",
        "nltk.download('stopwords')\n",
        "stop_words = set(nltk.corpus.stopwords.words('english'))\n",
        "\n",
        "\n",
        "def preprocess_text(text):\n",
        "    text = text.lower()  # Küçük harfe çevir\n",
        "    text = re.sub(r'\\d+', '', text)  # Sayıları kaldır\n",
        "    text = text.translate(str.maketrans('', '', string.punctuation))  # Noktalama işaretlerini kaldır\n",
        "    tokens = nltk.word_tokenize(text)  # Tokenizasyon\n",
        "    tokens = [word for word in tokens if word not in stop_words]  # Stopwords çıkar\n",
        "    return \" \".join(tokens)\n",
        "\n",
        "\n",
        "spam_data = {\n",
        "    \"text\": [\n",
        "        \"Congratulations! You've won a free vacation to Bahamas. Click now!\",\n",
        "        \"URGENT: Your account has been compromised, reset your password!\",\n",
        "        \"Hey, let's catch up for coffee tomorrow?\",\n",
        "        \"Limited time offer! Buy one, get one free on all products.\",\n",
        "        \"Can you send me the project files?\",\n",
        "        \"Win a brand new iPhone! Click here to claim your prize!\",\n",
        "        \"Reminder: Your subscription expires tomorrow. Renew now!\",\n",
        "        \"Meeting at 3 PM. Please confirm your availability.\",\n",
        "        \"Free Bitcoin giveaway! Don't miss out!\",\n",
        "        \"Dinner at my place tonight? Let me know.\"\n",
        "    ],\n",
        "    \"label\": [1, 1, 0, 1, 0, 1, 1, 0, 1, 0]  # 1: Spam, 0: Not Spam\n",
        "}\n",
        "\n",
        "df = pd.DataFrame(spam_data)\n",
        "df['processed_text'] = df['text'].apply(preprocess_text)\n",
        "\n",
        "\n",
        "vectorizer = TfidfVectorizer()\n",
        "X = vectorizer.fit_transform(df['processed_text'])\n",
        "y = df['label']\n",
        "\n",
        "\n",
        "X_train, X_test, y_train, y_test = train_test_split(X, y, test_size=0.3, random_state=42)\n",
        "\n",
        "\n",
        "nb_model = MultinomialNB()\n",
        "nb_model.fit(X_train, y_train)\n",
        "y_pred = nb_model.predict(X_test)\n",
        "\n",
        "\n",
        "print(\"Naïve Bayes Spam Sınıflandırma Sonuçları:\")\n",
        "print(f\"Doğruluk: {accuracy_score(y_test, y_pred):.2f}\")\n",
        "print(classification_report(y_test, y_pred))\n"
      ],
      "metadata": {
        "colab": {
          "base_uri": "https://localhost:8080/"
        },
        "id": "XP32TUQT97mg",
        "outputId": "69b54acb-6231-4d5c-b3b5-20d17d04da26"
      },
      "execution_count": 15,
      "outputs": [
        {
          "output_type": "stream",
          "name": "stdout",
          "text": [
            "Naïve Bayes Spam Sınıflandırma Sonuçları:\n",
            "Doğruluk: 0.00\n",
            "              precision    recall  f1-score   support\n",
            "\n",
            "           0       0.00      0.00      0.00       0.0\n",
            "           1       0.00      0.00      0.00       3.0\n",
            "\n",
            "    accuracy                           0.00       3.0\n",
            "   macro avg       0.00      0.00      0.00       3.0\n",
            "weighted avg       0.00      0.00      0.00       3.0\n",
            "\n"
          ]
        },
        {
          "output_type": "stream",
          "name": "stderr",
          "text": [
            "[nltk_data] Downloading package stopwords to /root/nltk_data...\n",
            "[nltk_data]   Package stopwords is already up-to-date!\n",
            "/usr/local/lib/python3.11/dist-packages/sklearn/metrics/_classification.py:1565: UndefinedMetricWarning: Precision is ill-defined and being set to 0.0 in labels with no predicted samples. Use `zero_division` parameter to control this behavior.\n",
            "  _warn_prf(average, modifier, f\"{metric.capitalize()} is\", len(result))\n",
            "/usr/local/lib/python3.11/dist-packages/sklearn/metrics/_classification.py:1565: UndefinedMetricWarning: Recall is ill-defined and being set to 0.0 in labels with no true samples. Use `zero_division` parameter to control this behavior.\n",
            "  _warn_prf(average, modifier, f\"{metric.capitalize()} is\", len(result))\n",
            "/usr/local/lib/python3.11/dist-packages/sklearn/metrics/_classification.py:1565: UndefinedMetricWarning: Precision is ill-defined and being set to 0.0 in labels with no predicted samples. Use `zero_division` parameter to control this behavior.\n",
            "  _warn_prf(average, modifier, f\"{metric.capitalize()} is\", len(result))\n",
            "/usr/local/lib/python3.11/dist-packages/sklearn/metrics/_classification.py:1565: UndefinedMetricWarning: Recall is ill-defined and being set to 0.0 in labels with no true samples. Use `zero_division` parameter to control this behavior.\n",
            "  _warn_prf(average, modifier, f\"{metric.capitalize()} is\", len(result))\n",
            "/usr/local/lib/python3.11/dist-packages/sklearn/metrics/_classification.py:1565: UndefinedMetricWarning: Precision is ill-defined and being set to 0.0 in labels with no predicted samples. Use `zero_division` parameter to control this behavior.\n",
            "  _warn_prf(average, modifier, f\"{metric.capitalize()} is\", len(result))\n",
            "/usr/local/lib/python3.11/dist-packages/sklearn/metrics/_classification.py:1565: UndefinedMetricWarning: Recall is ill-defined and being set to 0.0 in labels with no true samples. Use `zero_division` parameter to control this behavior.\n",
            "  _warn_prf(average, modifier, f\"{metric.capitalize()} is\", len(result))\n"
          ]
        }
      ]
    },
    {
      "cell_type": "markdown",
      "source": [
        "<b> Çözüm Önerileri </b>\n",
        "<p> Daha büyük bir veri seti kullanın </p>\n",
        "<p> Hazır bir SMS spam veri seti ekleyin </p>\n",
        "<p> Rastgele bölünmeyi dengeli hale getirin </p>\n",
        "<p> TF-IDF için min_df ve max_df ayarlarını optimize edin </p>"
      ],
      "metadata": {
        "id": "u0lh96qH-xZA"
      }
    },
    {
      "cell_type": "markdown",
      "source": [
        "Güncellenmiş Versiyon :"
      ],
      "metadata": {
        "id": "ZtYW-0TM-382"
      }
    },
    {
      "cell_type": "code",
      "source": [
        "import pandas as pd\n",
        "import re\n",
        "import string\n",
        "import nltk\n",
        "from sklearn.feature_extraction.text import TfidfVectorizer\n",
        "from sklearn.model_selection import train_test_split\n",
        "from sklearn.naive_bayes import MultinomialNB\n",
        "from sklearn.metrics import accuracy_score, classification_report\n",
        "\n",
        "nltk.download('stopwords')\n",
        "stop_words = set(nltk.corpus.stopwords.words('english'))\n",
        "\n",
        "def preprocess_text(text):\n",
        "    text = text.lower()\n",
        "    text = re.sub(r'\\d+', '', text)\n",
        "    text = text.translate(str.maketrans('', '', string.punctuation))\n",
        "    tokens = nltk.word_tokenize(text)\n",
        "    tokens = [word for word in tokens if word not in stop_words]\n",
        "    return \" \".join(tokens)\n",
        "\n",
        "\n",
        "spam_data = {\n",
        "    \"text\": [\n",
        "        \"Congratulations! You've won a free vacation to Bahamas. Click now!\",\n",
        "        \"URGENT: Your account has been compromised, reset your password!\",\n",
        "        \"Hey, let's catch up for coffee tomorrow?\",\n",
        "        \"Limited time offer! Buy one, get one free on all products.\",\n",
        "        \"Can you send me the project files?\",\n",
        "        \"Win a brand new iPhone! Click here to claim your prize!\",\n",
        "        \"Reminder: Your subscription expires tomorrow. Renew now!\",\n",
        "        \"Meeting at 3 PM. Please confirm your availability.\",\n",
        "        \"Free Bitcoin giveaway! Don't miss out!\",\n",
        "        \"Dinner at my place tonight? Let me know.\",\n",
        "        \"You've been selected to receive a $500 gift card! Click the link below.\",\n",
        "        \"Your loan has been pre-approved! Apply now to get instant cash.\",\n",
        "        \"Hey John, can we schedule a meeting next week?\",\n",
        "        \"Claim your exclusive discount coupon now before it expires!\",\n",
        "        \"Your package is waiting for delivery confirmation. Click here!\",\n",
        "        \"Hope you are doing well, let's have a quick call later.\",\n",
        "        \"This limited-time investment opportunity can make you rich!\",\n",
        "        \"Congratulations, you won a free flight ticket!\",\n",
        "        \"Hey, are you free this weekend to hang out?\",\n",
        "        \"Claim your lottery prize now! It's free and easy.\",\n",
        "        \"Can you review the report and send feedback?\",\n",
        "        \"Join our premium membership and get exclusive deals.\",\n",
        "        \"Warning: Your PayPal account has been temporarily locked!\",\n",
        "        \"Get 50% off on all items for the next 24 hours. Hurry up!\",\n",
        "        \"Remember to bring the documents for the presentation.\",\n",
        "        \"Congratulations! You have been randomly selected for a gift!\",\n",
        "        \"I'm sending you the project updates now.\",\n",
        "        \"Buy now and get free shipping on all orders!\",\n",
        "        \"Please find attached the invoice for your reference.\",\n",
        "        \"This is your last chance to claim your free reward!\",\n",
        "        \"We are offering free samples for a limited time. Get yours now!\",\n",
        "        \"The agenda for tomorrow's meeting has been finalized.\",\n",
        "        \"You just received an encrypted message. Click to read now.\",\n",
        "        \"Huge discounts available for a short period. Don’t miss out!\",\n",
        "        \"Can you please send me the updated version of the document?\",\n",
        "        \"Final notice: Your car warranty is about to expire.\",\n",
        "        \"Thank you for your purchase! Your order has been confirmed.\",\n",
        "        \"Your email has won a free lottery ticket. Claim it today!\",\n",
        "        \"Please review the attached files before our meeting.\",\n",
        "        \"You have received a mystery prize! Click to reveal your reward.\",\n",
        "        \"This is an automated message regarding your credit score update.\",\n",
        "        \"Let's discuss the proposal over lunch tomorrow.\",\n",
        "        \"Special reward for our valued customers! Click here to claim.\",\n",
        "        \"Important: Your Apple ID has been locked for security reasons.\",\n",
        "        \"Your order is ready for pickup at your nearest store.\",\n",
        "        \"Don't miss out on this once-in-a-lifetime investment opportunity!\",\n",
        "        \"Just wanted to check in and see how you're doing.\",\n",
        "        \"You have a new friend request pending. Accept now!\",\n",
        "        \"Confirm your email address to receive a surprise gift!\",\n",
        "        \"The latest updates on the project are now available.\"\n",
        "    ],\n",
        "    \"label\": [\n",
        "        1, 1, 0, 1, 0, 1, 1, 0, 1, 0,\n",
        "        1, 1, 0, 1, 1, 0, 1, 1, 0, 1,\n",
        "        0, 1, 1, 0, 1, 0, 1, 0, 1, 1,\n",
        "        0, 1, 1, 0, 1, 0, 1, 0, 1, 1,\n",
        "        1, 0, 1, 1, 0, 1, 0, 1, 1, 0\n",
        "    ]\n",
        "}\n",
        "\n",
        "df = pd.DataFrame(spam_data)\n",
        "df['processed_text'] = df['text'].apply(preprocess_text)\n",
        "\n",
        "\n",
        "vectorizer = TfidfVectorizer(min_df=1, max_df=0.9, stop_words='english')\n",
        "X = vectorizer.fit_transform(df['processed_text'])\n",
        "y = df['label']\n",
        "\n",
        "\n",
        "X_train, X_test, y_train, y_test = train_test_split(X, y, test_size=0.3, stratify=y, random_state=42)\n",
        "\n",
        "nb_model = MultinomialNB()\n",
        "nb_model.fit(X_train, y_train)\n",
        "y_pred = nb_model.predict(X_test)\n",
        "\n",
        "\n",
        "print(\" **Güncellenmiş Naïve Bayes Spam Sınıflandırma Sonuçları:**\")\n",
        "print(f\"✅ **Doğruluk:** {accuracy_score(y_test, y_pred):.2f}\")\n",
        "print(classification_report(y_test, y_pred))\n"
      ],
      "metadata": {
        "colab": {
          "base_uri": "https://localhost:8080/"
        },
        "id": "DksEYkCbc4Qs",
        "outputId": "2cfb754f-3c06-4c15-faaa-347f4b9d526a"
      },
      "execution_count": 16,
      "outputs": [
        {
          "output_type": "stream",
          "name": "stdout",
          "text": [
            " **Güncellenmiş Naïve Bayes Spam Sınıflandırma Sonuçları:**\n",
            "✅ **Doğruluk:** 0.53\n",
            "              precision    recall  f1-score   support\n",
            "\n",
            "           0       0.00      0.00      0.00         6\n",
            "           1       0.57      0.89      0.70         9\n",
            "\n",
            "    accuracy                           0.53        15\n",
            "   macro avg       0.29      0.44      0.35        15\n",
            "weighted avg       0.34      0.53      0.42        15\n",
            "\n"
          ]
        },
        {
          "output_type": "stream",
          "name": "stderr",
          "text": [
            "[nltk_data] Downloading package stopwords to /root/nltk_data...\n",
            "[nltk_data]   Package stopwords is already up-to-date!\n"
          ]
        }
      ]
    },
    {
      "cell_type": "markdown",
      "source": [
        "\n",
        "\n",
        "3.Duygu Analizi\n",
        "\n"
      ],
      "metadata": {
        "id": "jvRJE1qr_KjZ"
      }
    },
    {
      "cell_type": "code",
      "source": [
        "from sklearn.linear_model import LogisticRegression\n",
        "\n",
        "\n",
        "sentiment_data = {\n",
        "    \"text\": [\n",
        "        \"I absolutely love this movie! Best film ever.\",\n",
        "        \"This product is terrible, I regret buying it.\",\n",
        "        \"The service was okay, not the best but not the worst.\",\n",
        "        \"Absolutely fantastic experience, highly recommend it!\",\n",
        "        \"The food was awful, I'm very disappointed.\",\n",
        "        \"This was a great book, I enjoyed reading it.\",\n",
        "        \"Worst customer service ever. Never coming back!\",\n",
        "        \"The laptop is fast, lightweight, and has great battery life.\",\n",
        "        \"Horrible experience. Will never use this again.\",\n",
        "        \"Pretty decent movie, had some good moments.\"\n",
        "    ],\n",
        "    \"label\": [1, 0, 0, 1, 0, 1, 0, 1, 0, 1]\n",
        "}\n",
        "\n",
        "df_sentiment = pd.DataFrame(sentiment_data)\n",
        "df_sentiment['processed_text'] = df_sentiment['text'].apply(preprocess_text)\n",
        "\n",
        "\n",
        "X_sent = vectorizer.fit_transform(df_sentiment['processed_text'])\n",
        "y_sent = df_sentiment['label']\n",
        "\n",
        "\n",
        "X_train, X_test, y_train, y_test = train_test_split(X_sent, y_sent, test_size=0.3, random_state=42)\n",
        "\n",
        "# Lojistik Regresyon modeli eğitme\n",
        "log_reg = LogisticRegression()\n",
        "log_reg.fit(X_train, y_train)\n",
        "y_pred = log_reg.predict(X_test)\n",
        "\n",
        "\n",
        "print(\"Lojistik Regresyon Duygu Analizi Sonuçları:\")\n",
        "print(f\"Doğruluk: {accuracy_score(y_test, y_pred):.2f}\")\n",
        "print(classification_report(y_test, y_pred))"
      ],
      "metadata": {
        "colab": {
          "base_uri": "https://localhost:8080/"
        },
        "id": "fAqYrvcB_N3a",
        "outputId": "3f55e4e1-5469-4fd7-e7f7-cd6ce49ad71e"
      },
      "execution_count": 17,
      "outputs": [
        {
          "output_type": "stream",
          "name": "stdout",
          "text": [
            "Lojistik Regresyon Duygu Analizi Sonuçları:\n",
            "Doğruluk: 0.33\n",
            "              precision    recall  f1-score   support\n",
            "\n",
            "           0       0.00      0.00      0.00         2\n",
            "           1       0.33      1.00      0.50         1\n",
            "\n",
            "    accuracy                           0.33         3\n",
            "   macro avg       0.17      0.50      0.25         3\n",
            "weighted avg       0.11      0.33      0.17         3\n",
            "\n"
          ]
        },
        {
          "output_type": "stream",
          "name": "stderr",
          "text": [
            "/usr/local/lib/python3.11/dist-packages/sklearn/metrics/_classification.py:1565: UndefinedMetricWarning: Precision is ill-defined and being set to 0.0 in labels with no predicted samples. Use `zero_division` parameter to control this behavior.\n",
            "  _warn_prf(average, modifier, f\"{metric.capitalize()} is\", len(result))\n",
            "/usr/local/lib/python3.11/dist-packages/sklearn/metrics/_classification.py:1565: UndefinedMetricWarning: Precision is ill-defined and being set to 0.0 in labels with no predicted samples. Use `zero_division` parameter to control this behavior.\n",
            "  _warn_prf(average, modifier, f\"{metric.capitalize()} is\", len(result))\n",
            "/usr/local/lib/python3.11/dist-packages/sklearn/metrics/_classification.py:1565: UndefinedMetricWarning: Precision is ill-defined and being set to 0.0 in labels with no predicted samples. Use `zero_division` parameter to control this behavior.\n",
            "  _warn_prf(average, modifier, f\"{metric.capitalize()} is\", len(result))\n"
          ]
        }
      ]
    },
    {
      "cell_type": "markdown",
      "source": [
        "\n",
        "\n",
        "4.Metin Kümeleme\n",
        "\n",
        "\n"
      ],
      "metadata": {
        "id": "bCETUe8M_UKB"
      }
    },
    {
      "cell_type": "code",
      "source": [
        "from sklearn.cluster import KMeans\n",
        "\n",
        "\n",
        "text_clustering_data = [\n",
        "    \"The stock market is experiencing significant growth.\",\n",
        "    \"Economic downturns often lead to stock price drops.\",\n",
        "    \"The latest AI model achieves state-of-the-art accuracy.\",\n",
        "    \"New breakthroughs in deep learning improve image recognition.\",\n",
        "    \"The economy is recovering after a period of decline.\"\n",
        "]\n",
        "\n",
        "df_cluster = pd.DataFrame(text_clustering_data, columns=[\"text\"])\n",
        "df_cluster['processed_text'] = df_cluster['text'].apply(preprocess_text)\n",
        "\n",
        "X_cluster = vectorizer.fit_transform(df_cluster['processed_text'])\n",
        "\n",
        "# K-Means ile kümeleme\n",
        "kmeans = KMeans(n_clusters=2, random_state=42)\n",
        "df_cluster['cluster'] = kmeans.fit_predict(X_cluster)\n",
        "\n",
        "print(df_cluster)"
      ],
      "metadata": {
        "colab": {
          "base_uri": "https://localhost:8080/"
        },
        "id": "HITA_UmR_XCm",
        "outputId": "8c1d682b-e285-4b4b-c0ef-c87185d19482"
      },
      "execution_count": 18,
      "outputs": [
        {
          "output_type": "stream",
          "name": "stdout",
          "text": [
            "                                                text  \\\n",
            "0  The stock market is experiencing significant g...   \n",
            "1  Economic downturns often lead to stock price d...   \n",
            "2  The latest AI model achieves state-of-the-art ...   \n",
            "3  New breakthroughs in deep learning improve ima...   \n",
            "4  The economy is recovering after a period of de...   \n",
            "\n",
            "                                      processed_text  cluster  \n",
            "0       stock market experiencing significant growth        0  \n",
            "1    economic downturns often lead stock price drops        0  \n",
            "2    latest ai model achieves stateoftheart accuracy        0  \n",
            "3  new breakthroughs deep learning improve image ...        0  \n",
            "4                  economy recovering period decline        1  \n"
          ]
        }
      ]
    },
    {
      "cell_type": "markdown",
      "source": [
        "\n",
        "\n",
        "5. Metin Özetleme\n",
        "\n"
      ],
      "metadata": {
        "id": "md0XeqsS_af9"
      }
    },
    {
      "cell_type": "code",
      "source": [
        "pip install networkx"
      ],
      "metadata": {
        "colab": {
          "base_uri": "https://localhost:8080/"
        },
        "id": "kUauH8Cb_d0J",
        "outputId": "9285ec34-23f6-4d8e-c6a4-c1eafb323ca8"
      },
      "execution_count": 19,
      "outputs": [
        {
          "output_type": "stream",
          "name": "stdout",
          "text": [
            "Requirement already satisfied: networkx in /usr/local/lib/python3.11/dist-packages (3.5)\n"
          ]
        }
      ]
    },
    {
      "cell_type": "code",
      "source": [
        "import nltk\n",
        "import networkx as nx\n",
        "from sklearn.feature_extraction.text import CountVectorizer\n",
        "from sklearn.metrics.pairwise import cosine_similarity\n",
        "\n",
        "# nltk için cümle ayırıcıyı indir\n",
        "nltk.download('punkt')\n",
        "\n",
        "\n",
        "document = \"\"\"Natural language processing (NLP) is a subfield of linguistics, computer science, and artificial intelligence.\n",
        "NLP is used to apply algorithms to identify and extract the natural language rules such that the unstructured language data is converted into a form that computers can understand.\n",
        "It involves several challenges such as speech recognition, natural language understanding, and natural language generation.\"\"\"\n",
        "\n",
        "\n",
        "sentences = nltk.sent_tokenize(document)\n",
        "\n",
        "# BoW (Bag of Words) vektörleştirme\n",
        "vectorizer = CountVectorizer()\n",
        "X = vectorizer.fit_transform(sentences)\n",
        "\n",
        "\n",
        "sim_matrix = cosine_similarity(X)\n",
        "\n",
        "# Graph oluştur ve PageRank hesapla\n",
        "nx_graph = nx.from_numpy_array(sim_matrix)\n",
        "scores = nx.pagerank(nx_graph)\n",
        "\n",
        "\n",
        "ranked_sentences = sorted(((scores[i], s) for i, s in enumerate(sentences)), reverse=True)\n",
        "\n",
        "\n",
        "print(\"Özet:\")\n",
        "for i in range(2):  # En iyi 2 cümleyi seç\n",
        "    print(ranked_sentences[i][1])"
      ],
      "metadata": {
        "colab": {
          "base_uri": "https://localhost:8080/"
        },
        "id": "TslMXeao_hXu",
        "outputId": "7397eb15-eb95-45b8-b468-82e92c2d9a79"
      },
      "execution_count": 20,
      "outputs": [
        {
          "output_type": "stream",
          "name": "stdout",
          "text": [
            "Özet:\n",
            "Natural language processing (NLP) is a subfield of linguistics, computer science, and artificial intelligence.\n",
            "It involves several challenges such as speech recognition, natural language understanding, and natural language generation.\n"
          ]
        },
        {
          "output_type": "stream",
          "name": "stderr",
          "text": [
            "[nltk_data] Downloading package punkt to /root/nltk_data...\n",
            "[nltk_data]   Package punkt is already up-to-date!\n"
          ]
        }
      ]
    },
    {
      "cell_type": "markdown",
      "source": [
        "\n",
        "\n",
        "6.Metin Benzerliği Ölçümü\n",
        "\n"
      ],
      "metadata": {
        "id": "IH-tzAGD_wPY"
      }
    },
    {
      "cell_type": "code",
      "source": [
        "import pandas as pd\n",
        "from sklearn.feature_extraction.text import TfidfVectorizer\n",
        "from sklearn.metrics.pairwise import cosine_similarity\n",
        "\n",
        "text_similarity_data = [\n",
        "    \"Artificial intelligence is transforming the world.\",\n",
        "    \"Machine learning and AI are reshaping industries.\",\n",
        "    \"Deep learning enables new AI applications.\",\n",
        "    \"Stock market fluctuations impact global economy.\"\n",
        "]\n",
        "\n",
        "df_similarity = pd.DataFrame(text_similarity_data, columns=[\"text\"])\n",
        "\n",
        "\n",
        "vectorizer = TfidfVectorizer()\n",
        "X_sim = vectorizer.fit_transform(df_similarity['text'])\n",
        "\n",
        "\n",
        "similarity_matrix = cosine_similarity(X_sim)\n",
        "\n",
        "print(\"Metin Benzerlik Matrisi:\")\n",
        "print(pd.DataFrame(similarity_matrix, columns=[\"T1\", \"T2\", \"T3\", \"T4\"], index=[\"T1\", \"T2\", \"T3\", \"T4\"]))\n"
      ],
      "metadata": {
        "colab": {
          "base_uri": "https://localhost:8080/"
        },
        "id": "slJ8VEvU_vgj",
        "outputId": "013e2fa5-cef2-47d9-b01c-2daf458bd346"
      },
      "execution_count": 21,
      "outputs": [
        {
          "output_type": "stream",
          "name": "stdout",
          "text": [
            "Metin Benzerlik Matrisi:\n",
            "     T1        T2        T3   T4\n",
            "T1  1.0  0.000000  0.000000  0.0\n",
            "T2  0.0  1.000000  0.217288  0.0\n",
            "T3  0.0  0.217288  1.000000  0.0\n",
            "T4  0.0  0.000000  0.000000  1.0\n"
          ]
        }
      ]
    }
  ]
}