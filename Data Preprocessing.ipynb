{
  "nbformat": 4,
  "nbformat_minor": 0,
  "metadata": {
    "colab": {
      "provenance": []
    },
    "kernelspec": {
      "name": "python3",
      "display_name": "Python 3"
    },
    "language_info": {
      "name": "python"
    }
  },
  "cells": [
    {
      "cell_type": "code",
      "execution_count": 1,
      "metadata": {
        "colab": {
          "base_uri": "https://localhost:8080/"
        },
        "id": "TZBl4Gmd1TXJ",
        "outputId": "6054cccc-a955-47ff-806b-e169f0543a61"
      },
      "outputs": [
        {
          "output_type": "stream",
          "name": "stdout",
          "text": [
            "Requirement already satisfied: nltk in /usr/local/lib/python3.11/dist-packages (3.9.1)\n",
            "Requirement already satisfied: click in /usr/local/lib/python3.11/dist-packages (from nltk) (8.2.1)\n",
            "Requirement already satisfied: joblib in /usr/local/lib/python3.11/dist-packages (from nltk) (1.5.1)\n",
            "Requirement already satisfied: regex>=2021.8.3 in /usr/local/lib/python3.11/dist-packages (from nltk) (2024.11.6)\n",
            "Requirement already satisfied: tqdm in /usr/local/lib/python3.11/dist-packages (from nltk) (4.67.1)\n"
          ]
        }
      ],
      "source": [
        "!pip3 install nltk"
      ]
    },
    {
      "cell_type": "code",
      "source": [
        "import nltk\n",
        "nltk.download('punkt')\n",
        "nltk.download('stopwords')\n",
        "nltk.download('averaged_perceptron_tagger')\n",
        "nltk.download('wordnet')\n",
        "nltk.download('omw-1.4')\n",
        "nltk.download('punkt_tab')"
      ],
      "metadata": {
        "colab": {
          "base_uri": "https://localhost:8080/"
        },
        "id": "zuOMwdc31Xl9",
        "outputId": "2ca32e8e-7ed8-4700-db72-1505664214cb"
      },
      "execution_count": 2,
      "outputs": [
        {
          "output_type": "stream",
          "name": "stderr",
          "text": [
            "[nltk_data] Downloading package punkt to /root/nltk_data...\n",
            "[nltk_data]   Unzipping tokenizers/punkt.zip.\n",
            "[nltk_data] Downloading package stopwords to /root/nltk_data...\n",
            "[nltk_data]   Unzipping corpora/stopwords.zip.\n",
            "[nltk_data] Downloading package averaged_perceptron_tagger to\n",
            "[nltk_data]     /root/nltk_data...\n",
            "[nltk_data]   Unzipping taggers/averaged_perceptron_tagger.zip.\n",
            "[nltk_data] Downloading package wordnet to /root/nltk_data...\n",
            "[nltk_data] Downloading package omw-1.4 to /root/nltk_data...\n",
            "[nltk_data] Downloading package punkt_tab to /root/nltk_data...\n",
            "[nltk_data]   Unzipping tokenizers/punkt_tab.zip.\n"
          ]
        },
        {
          "output_type": "execute_result",
          "data": {
            "text/plain": [
              "True"
            ]
          },
          "metadata": {},
          "execution_count": 2
        }
      ]
    },
    {
      "cell_type": "markdown",
      "source": [
        "**Tokenization**"
      ],
      "metadata": {
        "id": "OomCTPGj1i39"
      }
    },
    {
      "cell_type": "code",
      "source": [
        "from nltk.tokenize import word_tokenize\n",
        "\n",
        "\n",
        "text = \"Doğal dil işleme, bilgisayarların insan dilini anlamasını sağlar.\"\n",
        "\n",
        "\n",
        "tokens = word_tokenize(text)\n",
        "print(\"Tokenlar:\", tokens)\n"
      ],
      "metadata": {
        "colab": {
          "base_uri": "https://localhost:8080/"
        },
        "id": "0dHXBtcV1l24",
        "outputId": "4fccc104-8d6f-4091-f667-10f3e2aff3b6"
      },
      "execution_count": 3,
      "outputs": [
        {
          "output_type": "stream",
          "name": "stdout",
          "text": [
            "Tokenlar: ['Doğal', 'dil', 'işleme', ',', 'bilgisayarların', 'insan', 'dilini', 'anlamasını', 'sağlar', '.']\n"
          ]
        }
      ]
    },
    {
      "cell_type": "markdown",
      "source": [
        "**Stopwords**"
      ],
      "metadata": {
        "id": "crkA81Yt1t_M"
      }
    },
    {
      "cell_type": "code",
      "source": [
        "from nltk.corpus import stopwords\n",
        "\n",
        "\n",
        "stop_words = set(stopwords.words(\"turkish\"))\n",
        "\n",
        "\n",
        "tokens = [\"doğal\", \"dil\", \"işleme\", \"bilgisayarların\", \"ve\", \"insan\", \"dilini\", \"anlamasını\", \"sağlar\"]\n",
        "\n",
        "filtered_tokens = [word for word in tokens if word not in stop_words]\n",
        "print(\"Filtrelenmiş Tokenlar:\", filtered_tokens)"
      ],
      "metadata": {
        "colab": {
          "base_uri": "https://localhost:8080/"
        },
        "id": "Zs5BNcPB1vbU",
        "outputId": "10796902-f863-4f44-abc2-72179c0d47b5"
      },
      "execution_count": 4,
      "outputs": [
        {
          "output_type": "stream",
          "name": "stdout",
          "text": [
            "Filtrelenmiş Tokenlar: ['doğal', 'dil', 'işleme', 'bilgisayarların', 'insan', 'dilini', 'anlamasını', 'sağlar']\n"
          ]
        }
      ]
    },
    {
      "cell_type": "markdown",
      "source": [
        "**Stemming**"
      ],
      "metadata": {
        "id": "uWfsKxih1xlI"
      }
    },
    {
      "cell_type": "code",
      "source": [
        "from nltk.stem import PorterStemmer\n",
        "\n",
        "ps = PorterStemmer()\n",
        "\n",
        "\n",
        "words = [\"running\", \"jumps\", \"easily\", \"faster\"]\n",
        "\n",
        "\n",
        "stemmed_words = [ps.stem(word) for word in words]\n",
        "print(\"Stemmed Kelimeler:\", stemmed_words)\n"
      ],
      "metadata": {
        "colab": {
          "base_uri": "https://localhost:8080/"
        },
        "id": "agtHVzt-1ys1",
        "outputId": "88ffb76b-5003-4609-87e6-91c9a4d5230b"
      },
      "execution_count": 5,
      "outputs": [
        {
          "output_type": "stream",
          "name": "stdout",
          "text": [
            "Stemmed Kelimeler: ['run', 'jump', 'easili', 'faster']\n"
          ]
        }
      ]
    },
    {
      "cell_type": "markdown",
      "source": [
        "**Lemmatization**"
      ],
      "metadata": {
        "id": "6UR_7prW103Z"
      }
    },
    {
      "cell_type": "code",
      "source": [
        "from nltk.stem import WordNetLemmatizer\n",
        "import nltk\n",
        "\n",
        "nltk.download('wordnet')\n",
        "\n",
        "lemmatizer = WordNetLemmatizer()\n",
        "\n",
        "\n",
        "words = [\"running\", \"jumps\", \"easily\", \"faster\"]\n",
        "\n",
        "lemmatized_words = [lemmatizer.lemmatize(word) for word in words]\n",
        "print(\"Lemmatized Kelimeler:\", lemmatized_words)"
      ],
      "metadata": {
        "colab": {
          "base_uri": "https://localhost:8080/"
        },
        "id": "5RxoMFU913kX",
        "outputId": "f00e096f-8130-4421-b98e-1beffba39524"
      },
      "execution_count": 6,
      "outputs": [
        {
          "output_type": "stream",
          "name": "stderr",
          "text": [
            "[nltk_data] Downloading package wordnet to /root/nltk_data...\n",
            "[nltk_data]   Package wordnet is already up-to-date!\n"
          ]
        },
        {
          "output_type": "stream",
          "name": "stdout",
          "text": [
            "Lemmatized Kelimeler: ['running', 'jump', 'easily', 'faster']\n"
          ]
        }
      ]
    },
    {
      "cell_type": "markdown",
      "source": [
        "**POS Tagging**"
      ],
      "metadata": {
        "id": "iB_hLUHl15g7"
      }
    },
    {
      "cell_type": "code",
      "source": [
        "import nltk\n",
        "nltk.download('punkt')\n",
        "nltk.download('wordnet')\n",
        "nltk.download('omw-1.4')\n",
        "nltk.download('punkt_tab')\n",
        "nltk.download('averaged_perceptron_tagger_eng')\n",
        "\n",
        "sentence = \"Alice and Bob are playing soccer in the park on a sunny day.\"\n",
        "\n",
        "\n",
        "tokens = nltk.word_tokenize(sentence)\n",
        "\n",
        "\n",
        "pos_tags = nltk.pos_tag(tokens)\n",
        "\n",
        "print(\"POS Tagging Results:\")\n",
        "for word, tag in pos_tags:\n",
        "    print(f\"{word}: {tag}\")\n"
      ],
      "metadata": {
        "colab": {
          "base_uri": "https://localhost:8080/"
        },
        "id": "ZC3e1XnF2AZ_",
        "outputId": "1eacedbc-c64d-480e-8cbe-19e505b6bdb5"
      },
      "execution_count": 7,
      "outputs": [
        {
          "output_type": "stream",
          "name": "stderr",
          "text": [
            "[nltk_data] Downloading package punkt to /root/nltk_data...\n",
            "[nltk_data]   Package punkt is already up-to-date!\n",
            "[nltk_data] Downloading package wordnet to /root/nltk_data...\n",
            "[nltk_data]   Package wordnet is already up-to-date!\n",
            "[nltk_data] Downloading package omw-1.4 to /root/nltk_data...\n",
            "[nltk_data]   Package omw-1.4 is already up-to-date!\n",
            "[nltk_data] Downloading package punkt_tab to /root/nltk_data...\n",
            "[nltk_data]   Package punkt_tab is already up-to-date!\n",
            "[nltk_data] Downloading package averaged_perceptron_tagger_eng to\n",
            "[nltk_data]     /root/nltk_data...\n"
          ]
        },
        {
          "output_type": "stream",
          "name": "stdout",
          "text": [
            "POS Tagging Results:\n",
            "Alice: NNP\n",
            "and: CC\n",
            "Bob: NNP\n",
            "are: VBP\n",
            "playing: VBG\n",
            "soccer: NN\n",
            "in: IN\n",
            "the: DT\n",
            "park: NN\n",
            "on: IN\n",
            "a: DT\n",
            "sunny: JJ\n",
            "day: NN\n",
            ".: .\n"
          ]
        },
        {
          "output_type": "stream",
          "name": "stderr",
          "text": [
            "[nltk_data]   Unzipping taggers/averaged_perceptron_tagger_eng.zip.\n"
          ]
        }
      ]
    },
    {
      "cell_type": "markdown",
      "source": [
        "**Kelime Frekansı Analizi**"
      ],
      "metadata": {
        "id": "EajDwZt52Byv"
      }
    },
    {
      "cell_type": "code",
      "source": [
        "from collections import Counter\n",
        "from nltk.tokenize import word_tokenize\n",
        "\n",
        "text = \"Doğal dil işleme, bilgisayarların insan dilini anlamasını sağlar. Dilin karmaşıklığı NLP için bir zorluktur.\"\n",
        "\n",
        "tokens = word_tokenize(text.lower())\n",
        "\n",
        "word_freq = Counter(tokens)\n",
        "print(word_freq)\n"
      ],
      "metadata": {
        "colab": {
          "base_uri": "https://localhost:8080/"
        },
        "id": "ld94EeSg2Dzk",
        "outputId": "b9d1cfe0-73ce-424d-80d9-39cb4784fe50"
      },
      "execution_count": 8,
      "outputs": [
        {
          "output_type": "stream",
          "name": "stdout",
          "text": [
            "Counter({'.': 2, 'doğal': 1, 'dil': 1, 'işleme': 1, ',': 1, 'bilgisayarların': 1, 'insan': 1, 'dilini': 1, 'anlamasını': 1, 'sağlar': 1, 'dilin': 1, 'karmaşıklığı': 1, 'nlp': 1, 'için': 1, 'bir': 1, 'zorluktur': 1})\n"
          ]
        }
      ]
    },
    {
      "cell_type": "markdown",
      "source": [
        "**Metin Temizleme ve Ön İşleme**"
      ],
      "metadata": {
        "id": "aRjCuzm_2Gv4"
      }
    },
    {
      "cell_type": "code",
      "source": [
        "import re\n",
        "\n",
        "\n",
        "text = \"Doğal dil işleme (NLP), bilgisayarların insan dilini anlamasını sağlar!!! 😊\"\n",
        "\n",
        "def temizle(metin):\n",
        "    metin = metin.lower()\n",
        "    metin = re.sub(r\"[^\\w\\s]\", \"\", metin)\n",
        "    metin = re.sub(r\"\\s+\", \" \", metin)\n",
        "    return metin.strip()\n",
        "\n",
        "clean_text = temizle(text)\n",
        "print(\"Temizlenmiş Metin:\", clean_text)"
      ],
      "metadata": {
        "colab": {
          "base_uri": "https://localhost:8080/"
        },
        "id": "QRHyrLOi2Jbu",
        "outputId": "6c8594ac-a9c2-4453-c62f-ea6f72ad9970"
      },
      "execution_count": 9,
      "outputs": [
        {
          "output_type": "stream",
          "name": "stdout",
          "text": [
            "Temizlenmiş Metin: doğal dil işleme nlp bilgisayarların insan dilini anlamasını sağlar\n"
          ]
        }
      ]
    },
    {
      "cell_type": "code",
      "source": [
        "import re\n",
        "from nltk.tokenize import word_tokenize\n",
        "\n",
        "\n",
        "text = \"Doğal dil işleme (NLP), bilgisayarların insan dilini anlamasını sağlar!\"\n",
        "\n",
        "def temizle(metin):\n",
        "    metin = metin.lower()\n",
        "    metin = re.sub(r\"[^\\w\\s]\", \"\", metin)\n",
        "    metin = re.sub(r\"\\s+\", \" \", metin)\n",
        "    return metin.strip()\n",
        "\n",
        "cleaned_text = temizle(text)\n",
        "\n",
        "tokens = word_tokenize(cleaned_text)\n",
        "\n",
        "print(\"Temizlenmiş Metin:\", cleaned_text)\n",
        "print(\"Tokenlar:\", tokens)\n",
        "print(\"Kelime Sayısı:\", len(tokens))"
      ],
      "metadata": {
        "colab": {
          "base_uri": "https://localhost:8080/"
        },
        "id": "TxY1Boiz2MNV",
        "outputId": "9e905b7b-b324-486d-ebfb-2e8f12d21ffb"
      },
      "execution_count": 10,
      "outputs": [
        {
          "output_type": "stream",
          "name": "stdout",
          "text": [
            "Temizlenmiş Metin: doğal dil işleme nlp bilgisayarların insan dilini anlamasını sağlar\n",
            "Tokenlar: ['doğal', 'dil', 'işleme', 'nlp', 'bilgisayarların', 'insan', 'dilini', 'anlamasını', 'sağlar']\n",
            "Kelime Sayısı: 9\n"
          ]
        }
      ]
    }
  ]
}